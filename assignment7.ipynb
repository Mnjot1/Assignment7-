{
 "cells": [
  {
   "cell_type": "markdown",
   "id": "4068e546-3043-4d47-805e-8ae5e3bd8246",
   "metadata": {},
   "source": [
    "## Assignment 7"
   ]
  },
  {
   "cell_type": "markdown",
   "id": "2ae93bd8-f295-4982-8825-861e3449d8ce",
   "metadata": {},
   "source": [
    "#### Q1. Explain Class and Object with respect to Object-Oriented Programming. Give a suitable example."
   ]
  },
  {
   "cell_type": "code",
   "execution_count": 13,
   "id": "028b8aac-0d87-4a28-b081-7835a635dea7",
   "metadata": {},
   "outputs": [],
   "source": [
    "# Class is a blueprint for creating objects, whereas objects is instance of class each object has \n",
    "# its own unique set of attribute and value.\n"
   ]
  },
  {
   "cell_type": "code",
   "execution_count": 19,
   "id": "442997c3-e199-4b75-9927-912299c0376f",
   "metadata": {},
   "outputs": [],
   "source": [
    "class car:\n",
    "    \n",
    "    def __init__(self, name , model, year, color):\n",
    "           \n",
    "            self.named=name\n",
    "            self.model=model\n",
    "            self.year= year\n",
    "            self.color=color\n",
    "            \n",
    "    def returncar(self):\n",
    "       \n",
    "        \n",
    "        return self.named, self.model, self.year, self.color\n",
    "            \n",
    "    "
   ]
  },
  {
   "cell_type": "code",
   "execution_count": 20,
   "id": "74babb11-8f1d-46f5-88f0-d003637a11f1",
   "metadata": {},
   "outputs": [],
   "source": [
    "Toyata=car (\"Fortuner\", \"Automatic\", 2021, \"Black\")"
   ]
  },
  {
   "cell_type": "code",
   "execution_count": 21,
   "id": "4c6d4783-d331-4a50-b978-c7574af255f7",
   "metadata": {},
   "outputs": [
    {
     "data": {
      "text/plain": [
       "('Fortuner', 'Automatic', 2021, 'Black')"
      ]
     },
     "execution_count": 21,
     "metadata": {},
     "output_type": "execute_result"
    }
   ],
   "source": [
    "Toyata.returncar()"
   ]
  },
  {
   "cell_type": "code",
   "execution_count": 23,
   "id": "6b19bf0b-0ee9-4b8e-8ffb-8da63817f618",
   "metadata": {},
   "outputs": [],
   "source": [
    "Mahindra= car(\"Thar\", \"Manual\", 2022, \"Grey\")"
   ]
  },
  {
   "cell_type": "code",
   "execution_count": 24,
   "id": "3d98ef75-23a7-4ced-bf73-8ac2173b4541",
   "metadata": {},
   "outputs": [
    {
     "data": {
      "text/plain": [
       "('Thar', 'Manual', 2022, 'Grey')"
      ]
     },
     "execution_count": 24,
     "metadata": {},
     "output_type": "execute_result"
    }
   ],
   "source": [
    "Mahindra.returncar()"
   ]
  },
  {
   "cell_type": "code",
   "execution_count": null,
   "id": "d46588a3-7445-4cac-864d-f78a3b95e269",
   "metadata": {},
   "outputs": [],
   "source": []
  },
  {
   "cell_type": "markdown",
   "id": "e7ac2ed2-deb2-40da-ae73-252c3b7e7f15",
   "metadata": {},
   "source": [
    "#### Q2. Name the four pillars of OOPs."
   ]
  },
  {
   "cell_type": "code",
   "execution_count": null,
   "id": "cfdc4f42-ed58-4555-af91-e8c0971c4f0c",
   "metadata": {},
   "outputs": [],
   "source": [
    "# The Four Pillars of OOPs are:\n",
    "# 1.Polymorphism\n",
    "# 2.Inheritance\n",
    "# 3.Abstraction\n",
    "# 4.Incapsulation\n"
   ]
  },
  {
   "cell_type": "code",
   "execution_count": null,
   "id": "0b70da69-49b9-4dbe-a691-7ac8de3e1e0d",
   "metadata": {},
   "outputs": [],
   "source": []
  },
  {
   "cell_type": "markdown",
   "id": "6e8b08f9-1ac6-4787-bd37-78b69497588f",
   "metadata": {},
   "source": [
    "#### Q3. Explain why the __init__() function is used. Give a suitable example."
   ]
  },
  {
   "cell_type": "code",
   "execution_count": 25,
   "id": "aef84ec8-764b-4ec9-b1c8-8a4a37d56245",
   "metadata": {},
   "outputs": [],
   "source": [
    "# init() function lets the class intialize oject's attribute and is also know as Constructor,\n",
    "# and while writing this function in code one should always remember to put 2 underscore before and after \n",
    "# declaring it _ _ intit()_ _"
   ]
  },
  {
   "cell_type": "code",
   "execution_count": 26,
   "id": "599358ff-0aab-4096-912f-72d94c7b824d",
   "metadata": {},
   "outputs": [],
   "source": [
    "# example of init() would be:\n",
    "# class person\n",
    "\n",
    "# def __intit__(self, age, city, education, salary):"
   ]
  },
  {
   "cell_type": "code",
   "execution_count": null,
   "id": "4f42b91a-d815-43da-adde-ec0cf22dcc18",
   "metadata": {},
   "outputs": [],
   "source": []
  },
  {
   "cell_type": "markdown",
   "id": "8fe45675-d9de-43ab-8486-acced2e98cc8",
   "metadata": {},
   "source": [
    "#### Q4. Why self is used in OOPs?"
   ]
  },
  {
   "cell_type": "code",
   "execution_count": 27,
   "id": "fb04e579-ee3c-4874-8d57-6f170e95c888",
   "metadata": {},
   "outputs": [],
   "source": [
    "# Self is bascially a refernce or pointer it is mainly used in python when we use a function inside class, \n",
    "# it help us declaring the attributes,thereafter it pass the values to class and for return the value also,\n",
    "# we have to use self. Although self is not reseerved that we only have to use that for pointing, one can use \n",
    "# anything to point or refernce, for ex. one can use there own name also."
   ]
  },
  {
   "cell_type": "code",
   "execution_count": null,
   "id": "8353d5b7-06ee-4b1b-beb0-6935f4b2e2ba",
   "metadata": {},
   "outputs": [],
   "source": []
  },
  {
   "cell_type": "markdown",
   "id": "72ace271-f5bc-40dd-97e7-69acaeb09a57",
   "metadata": {},
   "source": [
    "#### Q5. What is inheritance? Give an example for each type of inheritance. "
   ]
  },
  {
   "cell_type": "code",
   "execution_count": null,
   "id": "e66d0f44-4785-4a84-b8d9-0948e5aec9c9",
   "metadata": {},
   "outputs": [],
   "source": [
    "# inhertiance is a method in python that allow new class based on existing class, \n",
    "# inherting the characteristics of exitsting class.\n",
    "\n",
    "# There are five types of inheritance:\n",
    "\n",
    "# 1. Single inheritance:  When a derived class inherits from only one base class.\n",
    "# example, would be Dog is a derived class that inherits from Animal\n",
    " class Animal:\n",
    "    def __init__(self, name, species):\n",
    "        self.name = name\n",
    "        self.species = species\n",
    "\n",
    "class Dog(Animal):\n",
    "    def __init__(self, name, species, breed):\n",
    "        super().__init__(name, species)\n",
    "        self.breed = breed\n",
    "\n",
    "# 2. Multiple inheritance: When a derived class inherits from more than one base class.\n",
    "#example, C is a derived class that inherits from both A and B\n",
    "class A:\n",
    "    def foo(self):\n",
    "        print(\"A's foo\")\n",
    "\n",
    "class B:\n",
    "    def foo(self):\n",
    "        print(\"B's foo\")\n",
    "\n",
    "class C(A, B):\n",
    "    pass\n",
    "\n",
    "# 3. Multilevel inhertiance: When a derived class inherits from a base class, which itself inherits from \n",
    "# another base class.\n",
    "class Vehicle:\n",
    "    def __init__(self, make, model, year):\n",
    "        self.make = make\n",
    "        self.model = model\n",
    "        self.year = year\n",
    "\n",
    "class Car(Vehicle):\n",
    "    def __init__(self, make, model, year, num_doors):\n",
    "        super().__init__(make, model, year)\n",
    "        self.num_doors = num_doors\n",
    "\n",
    "class SportsCar(Car):\n",
    "    def __init__(self, make, model, year, num_doors, top_speed):\n",
    "        super().__init__(make, model, year, num_doors)\n",
    "        self.top_speed = top_speed\n",
    "In this example, SportsCar is a derived class that inherits from Car, which itself inherits from Vehicle. The SportsCar class has its own attribute top_speed, and it inherits the make, model, year, and num_doors attributes from its parent classes.\n",
    "\n",
    "\n",
    "\n",
    "\n",
    " \n",
    "# 4. Hierarchical inheritance: when multiple derived classes inherit from a single base class.\n",
    "class Animal:\n",
    "    def __init__(self, name, species):\n",
    "        self.name = name\n",
    "        self.species = species\n",
    "\n",
    "class Cat(Animal):\n",
    "    def __init__(self, name, species, color):\n",
    "        super().__init__(name, species)\n",
    "        self.color = color\n",
    "\n",
    "class Dog(Animal):\n",
    "    def __init__(self, name, species, breed):\n",
    "        super().__init__(name, species)\n",
    "        self.breed = breed\n",
    "        \n",
    "# 5. Hybrid inheritance: Hybrid inheritance is a combination of two or more types of inheritance,\n",
    "#    it is a combination of hierarchical and multiple inheritance\n",
    "class A:\n",
    "    def methodA(self):\n",
    "        print(\"This is method A\")\n",
    "\n",
    "class B(A):\n",
    "    def methodB(self):\n",
    "        print(\"This is method B\")\n",
    "\n",
    "class C(A):\n",
    "    def methodC(self):\n",
    "        print(\"This is method C\")\n",
    "\n",
    "class D(B, C):\n",
    "    def methodD(self):\n",
    "        print(\"This is method D\")"
   ]
  },
  {
   "cell_type": "code",
   "execution_count": null,
   "id": "8ff8f13d-7caa-4650-a43c-6b3bc96c95f5",
   "metadata": {},
   "outputs": [],
   "source": []
  }
 ],
 "metadata": {
  "kernelspec": {
   "display_name": "Python 3 (ipykernel)",
   "language": "python",
   "name": "python3"
  },
  "language_info": {
   "codemirror_mode": {
    "name": "ipython",
    "version": 3
   },
   "file_extension": ".py",
   "mimetype": "text/x-python",
   "name": "python",
   "nbconvert_exporter": "python",
   "pygments_lexer": "ipython3",
   "version": "3.10.8"
  }
 },
 "nbformat": 4,
 "nbformat_minor": 5
}
